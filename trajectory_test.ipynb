{
 "cells": [
  {
   "cell_type": "code",
   "execution_count": 1,
   "metadata": {},
   "outputs": [],
   "source": [
    "import numpy as np\n",
    "from pydrake.all import (\n",
    "    AddMultibodyPlantSceneGraph,\n",
    "    BsplineTrajectory,\n",
    "    DiagramBuilder,\n",
    "    KinematicTrajectoryOptimization,\n",
    "    MeshcatVisualizer,\n",
    "    MeshcatVisualizerParams,\n",
    "    MinimumDistanceLowerBoundConstraint,\n",
    "    Parser,\n",
    "    PositionConstraint,\n",
    "    Rgba,\n",
    "    RigidTransform,\n",
    "    Context,\n",
    "    OutputPort,\n",
    "    Simulator,\n",
    "    Role,\n",
    "    Solve,\n",
    "    LoadModelDirectivesFromString,\n",
    "    ProcessModelDirectives,\n",
    "    Sphere,\n",
    "    LeafSystem,\n",
    "    StartMeshcat,\n",
    "    ConstantVectorSource,\n",
    "    JacobianWrtVariable,\n",
    "    IiwaControlMode,\n",
    "    SimIiwaDriver\n",
    ")\n",
    "\n",
    "from manipulation.meshcat_utils import PublishPositionTrajectory\n",
    "from manipulation.scenarios import AddIiwa, AddPlanarIiwa, AddWsg\n",
    "from manipulation.utils import ConfigureParser\n",
    "from manipulation.utils import RenderDiagram\n",
    "\n",
    "from Planning import CreateTrajectoryOptimized"
   ]
  },
  {
   "cell_type": "code",
   "execution_count": 2,
   "metadata": {},
   "outputs": [
    {
     "name": "stderr",
     "output_type": "stream",
     "text": [
      "INFO:drake:Meshcat listening for connections at http://localhost:7000\n"
     ]
    }
   ],
   "source": [
    "meshcat = StartMeshcat()"
   ]
  },
  {
   "cell_type": "code",
   "execution_count": 3,
   "metadata": {},
   "outputs": [],
   "source": [
    "model_directive = \"\"\"\n",
    "directives:\n",
    "- add_model:\n",
    "    name: iiwa\n",
    "    file: package://drake_models/iiwa_description/sdf/iiwa7_no_collision.sdf\n",
    "    default_joint_positions:\n",
    "        iiwa_joint_1: [0.0]\n",
    "        iiwa_joint_2: [0.6]\n",
    "        iiwa_joint_3: [0.0]\n",
    "        iiwa_joint_4: [-1.75]\n",
    "        iiwa_joint_5: [0.0]\n",
    "        iiwa_joint_6: [1.0]\n",
    "        iiwa_joint_7: [0.0]\n",
    "- add_weld:\n",
    "    parent: world\n",
    "    child: iiwa::iiwa_link_0\n",
    "- add_model:\n",
    "    name: wsg\n",
    "    file: package://manipulation/schunk_wsg_50_welded_fingers.sdf\n",
    "- add_weld:\n",
    "    parent: iiwa::iiwa_link_7\n",
    "    child: wsg::body\n",
    "    X_PC:\n",
    "        translation: [0, 0, 0.09]\n",
    "        rotation: !Rpy { deg: [90, 0, 90]}\n",
    "\"\"\""
   ]
  },
  {
   "cell_type": "code",
   "execution_count": null,
   "metadata": {},
   "outputs": [],
   "source": [
    "class TrajectoryPublisher(LeafSystem):\n",
    "    def __init__(self,\n",
    "                 X_WGoal,\n",
    "                 plant):\n",
    "        LeafSystem.__init__(self)\n",
    "        \n",
    "        self.plant = plant\n",
    "        self.plant_context = plant.CreateDefaultContext()\n",
    "\n",
    "        X_GStart = plant.CalcRelativeTransform(self.plant_context, \n",
    "                                                     plant.world_frame(), \n",
    "                                                     plant.GetBodyByName(\"body\").body_frame())\n",
    "        self.start_time = self.plant_context.get_time()\n",
    "\n",
    "        self.trajectory = CreateTrajectoryOptimized(X_GStart, X_WGoal, plant, self.plant_context, tol=1000)\n",
    "        \n",
    "        self.DeclareVectorOutputPort(\"iiwa_position_cmd\", 7, self.SampleTrajectory)\n",
    "\n",
    "    def SampleTrajectory(self, context: Context, output: OutputPort):\n",
    "        cur_time = context.get_time()\n",
    "        dt = cur_time - self.start_time\n",
    "        \n",
    "        q = self.trajectory.value(dt)\n",
    "        output.SetFromVector(q)\n",
    "\n",
    "        X_GStart = self.plant.CalcRelativeTransform(self.plant_context, \n",
    "                                                     self.plant.world_frame(), \n",
    "                                                     self.plant.GetBodyByName(\"body\").body_frame())\n",
    "        \n",
    "        print(X_GStart.rotation())"
   ]
  },
  {
   "cell_type": "code",
   "execution_count": 5,
   "metadata": {},
   "outputs": [
    {
     "ename": "AssertionError",
     "evalue": "",
     "output_type": "error",
     "traceback": [
      "\u001b[0;31m---------------------------------------------------------------------------\u001b[0m",
      "\u001b[0;31mAssertionError\u001b[0m                            Traceback (most recent call last)",
      "Cell \u001b[0;32mIn[5], line 16\u001b[0m\n\u001b[1;32m     13\u001b[0m MeshcatVisualizer\u001b[38;5;241m.\u001b[39mAddToBuilder(builder, scene_graph, meshcat)\n\u001b[1;32m     15\u001b[0m X_WGoal \u001b[38;5;241m=\u001b[39m RigidTransform([\u001b[38;5;241m1.0\u001b[39m, \u001b[38;5;241m-\u001b[39m\u001b[38;5;241m0.3\u001b[39m, \u001b[38;5;241m0.5\u001b[39m])\n\u001b[0;32m---> 16\u001b[0m trajectory \u001b[38;5;241m=\u001b[39m builder\u001b[38;5;241m.\u001b[39mAddNamedSystem(\u001b[38;5;124m\"\u001b[39m\u001b[38;5;124mTrajectory\u001b[39m\u001b[38;5;124m\"\u001b[39m, \u001b[43mTrajectoryPublisher\u001b[49m\u001b[43m(\u001b[49m\u001b[43mX_WGoal\u001b[49m\u001b[43m,\u001b[49m\u001b[43m \u001b[49m\u001b[43mplant\u001b[49m\u001b[43m)\u001b[49m)\n\u001b[1;32m     18\u001b[0m controller \u001b[38;5;241m=\u001b[39m builder\u001b[38;5;241m.\u001b[39mAddSystem(SimIiwaDriver(\n\u001b[1;32m     19\u001b[0m     control_mode\u001b[38;5;241m=\u001b[39mIiwaControlMode\u001b[38;5;241m.\u001b[39mkPositionAndTorque, \n\u001b[1;32m     20\u001b[0m     controller_plant\u001b[38;5;241m=\u001b[39mplant, \n\u001b[1;32m     21\u001b[0m     ext_joint_filter_tau\u001b[38;5;241m=\u001b[39m\u001b[38;5;241m0.01\u001b[39m,\n\u001b[1;32m     22\u001b[0m     kp_gains\u001b[38;5;241m=\u001b[39mnp\u001b[38;5;241m.\u001b[39mfull(plant\u001b[38;5;241m.\u001b[39mnum_positions(iiwa), \u001b[38;5;241m100\u001b[39m))\n\u001b[1;32m     23\u001b[0m )\n\u001b[1;32m     25\u001b[0m zeros \u001b[38;5;241m=\u001b[39m builder\u001b[38;5;241m.\u001b[39mAddSystem(ConstantVectorSource(np\u001b[38;5;241m.\u001b[39mzeros(\u001b[38;5;241m7\u001b[39m)))\n",
      "Cell \u001b[0;32mIn[4], line 15\u001b[0m, in \u001b[0;36mTrajectoryPublisher.__init__\u001b[0;34m(self, X_WGoal, plant)\u001b[0m\n\u001b[1;32m     10\u001b[0m X_GStart \u001b[38;5;241m=\u001b[39m plant\u001b[38;5;241m.\u001b[39mCalcRelativeTransform(\u001b[38;5;28mself\u001b[39m\u001b[38;5;241m.\u001b[39mplant_context, \n\u001b[1;32m     11\u001b[0m                                              plant\u001b[38;5;241m.\u001b[39mworld_frame(), \n\u001b[1;32m     12\u001b[0m                                              plant\u001b[38;5;241m.\u001b[39mGetBodyByName(\u001b[38;5;124m\"\u001b[39m\u001b[38;5;124mbody\u001b[39m\u001b[38;5;124m\"\u001b[39m)\u001b[38;5;241m.\u001b[39mbody_frame())\n\u001b[1;32m     13\u001b[0m \u001b[38;5;28mself\u001b[39m\u001b[38;5;241m.\u001b[39mstart_time \u001b[38;5;241m=\u001b[39m \u001b[38;5;28mself\u001b[39m\u001b[38;5;241m.\u001b[39mplant_context\u001b[38;5;241m.\u001b[39mget_time()\n\u001b[0;32m---> 15\u001b[0m \u001b[38;5;28mself\u001b[39m\u001b[38;5;241m.\u001b[39mtrajectory \u001b[38;5;241m=\u001b[39m \u001b[43mCreateTrajectoryOptimized\u001b[49m\u001b[43m(\u001b[49m\u001b[43mX_GStart\u001b[49m\u001b[43m,\u001b[49m\u001b[43m \u001b[49m\u001b[43mX_WGoal\u001b[49m\u001b[43m,\u001b[49m\u001b[43m \u001b[49m\u001b[43mplant\u001b[49m\u001b[43m,\u001b[49m\u001b[43m \u001b[49m\u001b[38;5;28;43mself\u001b[39;49m\u001b[38;5;241;43m.\u001b[39;49m\u001b[43mplant_context\u001b[49m\u001b[43m,\u001b[49m\u001b[43m \u001b[49m\u001b[43mtol\u001b[49m\u001b[38;5;241;43m=\u001b[39;49m\u001b[38;5;241;43m0\u001b[39;49m\u001b[43m)\u001b[49m\n\u001b[1;32m     17\u001b[0m \u001b[38;5;28mself\u001b[39m\u001b[38;5;241m.\u001b[39mDeclareVectorOutputPort(\u001b[38;5;124m\"\u001b[39m\u001b[38;5;124miiwa_position_cmd\u001b[39m\u001b[38;5;124m\"\u001b[39m, \u001b[38;5;241m7\u001b[39m, \u001b[38;5;28mself\u001b[39m\u001b[38;5;241m.\u001b[39mSampleTrajectory)\n",
      "File \u001b[0;32m/mnt/shared/repos/Shish-Kebot/Planning.py:62\u001b[0m, in \u001b[0;36mCreateTrajectoryOptimized\u001b[0;34m(X_WStart, X_WGoal, plant, plant_context, max_time, tol)\u001b[0m\n\u001b[1;32m     59\u001b[0m trajopt\u001b[38;5;241m.\u001b[39mAddDurationConstraint(\u001b[38;5;241m0.5\u001b[39m, max_time)\n\u001b[1;32m     61\u001b[0m \u001b[38;5;66;03m# Start constraint\u001b[39;00m\n\u001b[0;32m---> 62\u001b[0m q_start \u001b[38;5;241m=\u001b[39m \u001b[43mSolveIK\u001b[49m\u001b[43m(\u001b[49m\u001b[43mX_WStart\u001b[49m\u001b[43m,\u001b[49m\u001b[43m \u001b[49m\u001b[43mplant\u001b[49m\u001b[43m)\u001b[49m\n\u001b[1;32m     63\u001b[0m trajopt\u001b[38;5;241m.\u001b[39mAddPathPositionConstraint(lb\u001b[38;5;241m=\u001b[39mq_start\u001b[38;5;241m-\u001b[39mtols, ub\u001b[38;5;241m=\u001b[39mq_start\u001b[38;5;241m+\u001b[39mtols, s\u001b[38;5;241m=\u001b[39m\u001b[38;5;241m0\u001b[39m)\n\u001b[1;32m     65\u001b[0m \u001b[38;5;66;03m# Goal constraint\u001b[39;00m\n",
      "File \u001b[0;32m/mnt/shared/repos/Shish-Kebot/Planning.py:179\u001b[0m, in \u001b[0;36mSolveIK\u001b[0;34m(pose, plant, plant_context, pos_tol, rot_tol)\u001b[0m\n\u001b[1;32m    170\u001b[0m ik\u001b[38;5;241m.\u001b[39mAddOrientationConstraint(\n\u001b[1;32m    171\u001b[0m     frameAbar\u001b[38;5;241m=\u001b[39mworld_frame,\n\u001b[1;32m    172\u001b[0m     R_AbarA\u001b[38;5;241m=\u001b[39mR_WG,\n\u001b[0;32m   (...)\u001b[0m\n\u001b[1;32m    175\u001b[0m     theta_bound\u001b[38;5;241m=\u001b[39mrot_tol,\n\u001b[1;32m    176\u001b[0m )\n\u001b[1;32m    178\u001b[0m result \u001b[38;5;241m=\u001b[39m Solve(prog)\n\u001b[0;32m--> 179\u001b[0m \u001b[38;5;28;01massert\u001b[39;00m result\u001b[38;5;241m.\u001b[39mis_success()\n\u001b[1;32m    180\u001b[0m \u001b[38;5;28;01mreturn\u001b[39;00m result\u001b[38;5;241m.\u001b[39mGetSolution(q_variables)\n",
      "\u001b[0;31mAssertionError\u001b[0m: "
     ]
    }
   ],
   "source": [
    "builder = DiagramBuilder()\n",
    "\n",
    "# Add our iiwa to the scene\n",
    "plant, scene_graph = AddMultibodyPlantSceneGraph(builder, time_step=1e-4)\n",
    "directives = LoadModelDirectivesFromString(model_directive)\n",
    "parser = Parser(plant)\n",
    "parser.package_map().Add(\"manipulation\", \"/home/trevor/.local/lib/python3.10/site-packages/manipulation/models/\")\n",
    "models = ProcessModelDirectives(directives, plant, parser)\n",
    "iiwa = plant.GetModelInstanceByName(\"iiwa\")\n",
    "plant.Finalize()\n",
    "\n",
    "# Connect meshcat to scene\n",
    "MeshcatVisualizer.AddToBuilder(builder, scene_graph, meshcat)\n",
    "\n",
    "X_WGoal = RigidTransform([1.0, -0.3, 0.5])\n",
    "trajectory = builder.AddNamedSystem(\"Trajectory\", TrajectoryPublisher(X_WGoal, plant))\n",
    "\n",
    "controller = builder.AddSystem(SimIiwaDriver(\n",
    "    control_mode=IiwaControlMode.kPositionAndTorque, \n",
    "    controller_plant=plant, \n",
    "    ext_joint_filter_tau=0.01,\n",
    "    kp_gains=np.full(plant.num_positions(iiwa), 100))\n",
    ")\n",
    "\n",
    "zeros = builder.AddSystem(ConstantVectorSource(np.zeros(7)))\n",
    "\n",
    "builder.Connect(plant.get_state_output_port(iiwa), controller.GetInputPort(\"state\"))\n",
    "builder.Connect(plant.get_generalized_contact_forces_output_port(iiwa), controller.GetInputPort(\"generalized_contact_forces\"))\n",
    "builder.Connect(zeros.get_output_port(0), controller.GetInputPort(\"torque\"))\n",
    "builder.Connect(trajectory.GetOutputPort(\"iiwa_position_cmd\"), controller.GetInputPort(\"position\"))\n",
    "\n",
    "builder.Connect(controller.GetOutputPort(\"actuation\"), plant.get_actuation_input_port(iiwa))\n",
    "\n",
    "diagram = builder.Build()\n",
    "simulator = Simulator(diagram)"
   ]
  },
  {
   "cell_type": "code",
   "execution_count": null,
   "metadata": {},
   "outputs": [],
   "source": [
    "simulator.set_target_realtime_rate(1.0)\n",
    "simulator.AdvanceTo(np.inf)"
   ]
  }
 ],
 "metadata": {
  "kernelspec": {
   "display_name": "usr",
   "language": "python",
   "name": "python3"
  },
  "language_info": {
   "codemirror_mode": {
    "name": "ipython",
    "version": 3
   },
   "file_extension": ".py",
   "mimetype": "text/x-python",
   "name": "python",
   "nbconvert_exporter": "python",
   "pygments_lexer": "ipython3",
   "version": "3.10.12"
  }
 },
 "nbformat": 4,
 "nbformat_minor": 2
}
