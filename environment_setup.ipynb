{
 "cells": [
  {
   "cell_type": "code",
   "execution_count": 6,
   "metadata": {},
   "outputs": [],
   "source": [
    "# External libraries\n",
    "import numpy as np\n",
    "from matplotlib import pyplot as plt\n",
    "\n",
    "\n",
    "# Drake dependencies\n",
    "from pydrake.all import (\n",
    "    DiagramBuilder,\n",
    "    Simulator,\n",
    "    StartMeshcat,\n",
    "    MultibodyPlant,\n",
    "    Demultiplexer,\n",
    "    DiscreteContactApproximation,\n",
    "    ConstantVectorSource,\n",
    "    Parser,\n",
    "    AddMultibodyPlantSceneGraph,\n",
    "    ConstantVectorSource,\n",
    "    DiagramBuilder,\n",
    "    JointSliders,\n",
    "    MeshcatVisualizer,\n",
    "    MeshcatVisualizerParams,\n",
    "    MultibodyPlant,\n",
    "    MultibodyPositionToGeometryPose,\n",
    "    Multiplexer,\n",
    "    Parser,\n",
    "    PointCloud,\n",
    "    PrismaticJoint,\n",
    "    PiecewisePolynomial,\n",
    "    PiecewiseQuaternionSlerp,\n",
    "    Rgba,\n",
    "    RigidTransform,\n",
    "    RollPitchYaw,\n",
    "    RotationMatrix,\n",
    "    SceneGraph,\n",
    "    Solve,\n",
    "    SpatialInertia,\n",
    "    Sphere,\n",
    "    TrajectorySource,\n",
    "    UnitInertia,\n",
    "    MeshcatVisualizerParams,\n",
    "    LoadModelDirectives,\n",
    "    LoadModelDirectivesFromString,\n",
    "    ProcessModelDirectives,\n",
    "    AddDefaultVisualization\n",
    ")\n",
    "\n",
    "# Custom classes and functions\n",
    "from ShishKebot.CartesianStiffnessController import CartesianStiffnessController\n",
    "from ShishKebot.TrajectoryPublisher import TrajectoryPublisher\n",
    "\n",
    "# Helper functions\n",
    "import manipulation\n",
    "from manipulation.meshcat_utils import MeshcatSliders, StopButton\n",
    "from manipulation.scenarios import AddShape\n",
    "from manipulation.utils import RenderDiagram\n",
    "from manipulation.scenarios import AddRgbdSensors\n",
    "import os\n",
    "import sys "
   ]
  },
  {
   "cell_type": "code",
   "execution_count": 7,
   "metadata": {},
   "outputs": [
    {
     "name": "stderr",
     "output_type": "stream",
     "text": [
      "INFO:drake:Meshcat listening for connections at http://localhost:7001\n"
     ]
    }
   ],
   "source": [
    "meshcat = StartMeshcat()\n",
    "meshcat.SetProperty(\"/Background\", \"visible\", False)\n",
    "meshcat.SetProperty(\"/Cameras/default/rotated/<object>\", \"zoom\", 10.5)"
   ]
  },
  {
   "cell_type": "code",
   "execution_count": 8,
   "metadata": {},
   "outputs": [],
   "source": [
    "\n",
    "# print (sys.path)\n",
    "# print(os.getcwd())\n",
    "# print(manipulation.__path__)"
   ]
  },
  {
   "cell_type": "code",
   "execution_count": 9,
   "metadata": {},
   "outputs": [
    {
     "name": "stderr",
     "output_type": "stream",
     "text": [
      "WARNING:drake://Users/arthu/Documents/6.4210/ShishKebot/Models/ground.sdf: warning: Rigid geometries defined with the tag drake:rigid_hydroelastic should not contain the tag drake:hydroelastic_modulus. The specified value (1000000) will be ignored.\n",
      "WARNING:drake:Drake materials have been assigned to a glTF file. glTF defines its own materials, so post hoc materials will be ignored and should be removed from the model specification. glTF file: '/private/var/tmp/.cache_arthu/drake/package_map/bacc01fba8f324b8dce1d15ae98083fa7e61463d0d278df46f198c2e3ae14abd-d542c1cfb057a27398ab0b818609a2edb14ec9c621b58dc2d78af6daa96f8056/wsg_50_description/meshes/finger_without_tip.gltf'\n",
      "WARNING:drake:Drake materials have been assigned to a glTF file. glTF defines its own materials, so post hoc materials will be ignored and should be removed from the model specification. glTF file: '/private/var/tmp/.cache_arthu/drake/package_map/bacc01fba8f324b8dce1d15ae98083fa7e61463d0d278df46f198c2e3ae14abd-d542c1cfb057a27398ab0b818609a2edb14ec9c621b58dc2d78af6daa96f8056/wsg_50_description/meshes/finger_without_tip.gltf'\n",
      "WARNING:drake:Drake materials have been assigned to a glTF file. glTF defines its own materials, so post hoc materials will be ignored and should be removed from the model specification. glTF file: '/private/var/tmp/.cache_arthu/drake/package_map/bacc01fba8f324b8dce1d15ae98083fa7e61463d0d278df46f198c2e3ae14abd-d542c1cfb057a27398ab0b818609a2edb14ec9c621b58dc2d78af6daa96f8056/wsg_50_description/meshes/wsg_body.gltf'\n",
      "WARNING:drake:Drake materials have been assigned to a glTF file. glTF defines its own materials, so post hoc materials will be ignored and should be removed from the model specification. glTF file: '/private/var/tmp/.cache_arthu/drake/package_map/bacc01fba8f324b8dce1d15ae98083fa7e61463d0d278df46f198c2e3ae14abd-d542c1cfb057a27398ab0b818609a2edb14ec9c621b58dc2d78af6daa96f8056/wsg_50_description/meshes/finger_without_tip.gltf'\n",
      "WARNING:drake:Drake materials have been assigned to a glTF file. glTF defines its own materials, so post hoc materials will be ignored and should be removed from the model specification. glTF file: '/private/var/tmp/.cache_arthu/drake/package_map/bacc01fba8f324b8dce1d15ae98083fa7e61463d0d278df46f198c2e3ae14abd-d542c1cfb057a27398ab0b818609a2edb14ec9c621b58dc2d78af6daa96f8056/wsg_50_description/meshes/finger_without_tip.gltf'\n",
      "WARNING:drake:Drake materials have been assigned to a glTF file. glTF defines its own materials, so post hoc materials will be ignored and should be removed from the model specification. glTF file: '/private/var/tmp/.cache_arthu/drake/package_map/bacc01fba8f324b8dce1d15ae98083fa7e61463d0d278df46f198c2e3ae14abd-d542c1cfb057a27398ab0b818609a2edb14ec9c621b58dc2d78af6daa96f8056/wsg_50_description/meshes/wsg_body.gltf'\n"
     ]
    },
    {
     "data": {
      "text/plain": [
       "<pydrake.geometry.MeshcatVisualizer at 0x16be394f0>"
      ]
     },
     "execution_count": 9,
     "metadata": {},
     "output_type": "execute_result"
    }
   ],
   "source": [
    "model_directive = f\"\"\"\n",
    "directives:\n",
    "- add_model:\n",
    "    name: iiwa1\n",
    "    file: package://drake_models/iiwa_description/sdf/iiwa7_with_box_collision.sdf\n",
    "    default_joint_positions:\n",
    "        iiwa_joint_1: [0.0]\n",
    "        iiwa_joint_2: [0.0]\n",
    "        iiwa_joint_3: [0.0]\n",
    "        iiwa_joint_4: [0.0]\n",
    "        iiwa_joint_5: [0.0]\n",
    "        iiwa_joint_6: [0.0]\n",
    "        iiwa_joint_7: [0.0]\n",
    "- add_weld:\n",
    "    parent: world\n",
    "    child: iiwa1::iiwa_link_0\n",
    "    X_PC:\n",
    "        translation: [0, 0.5, 0]\n",
    "- add_model:\n",
    "    name: wsg1\n",
    "    file: package://manipulation/schunk_wsg_50_welded_fingers.sdf\n",
    "- add_weld:\n",
    "    parent: iiwa1::iiwa_link_7\n",
    "    child: wsg1::body\n",
    "    X_PC:\n",
    "        translation: [0, 0, 0.09]\n",
    "        rotation: !Rpy {{ deg: [90, 0, 90]}}\n",
    "\n",
    "- add_model:\n",
    "    name: iiwa2\n",
    "    file: package://drake_models/iiwa_description/sdf/iiwa7_with_box_collision.sdf\n",
    "    default_joint_positions:\n",
    "        iiwa_joint_1: [0.0]\n",
    "        iiwa_joint_2: [0.6]\n",
    "        iiwa_joint_3: [0.0]\n",
    "        iiwa_joint_4: [-1.75]\n",
    "        iiwa_joint_5: [0.0]\n",
    "        iiwa_joint_6: [1.0]\n",
    "        iiwa_joint_7: [0.0]\n",
    "- add_weld:\n",
    "    parent: world\n",
    "    child: iiwa2::iiwa_link_0\n",
    "    X_PC:\n",
    "        translation: [0, -0.5, 0]\n",
    "- add_model:\n",
    "    name: wsg2\n",
    "    file: package://manipulation/schunk_wsg_50_welded_fingers.sdf\n",
    "- add_weld:\n",
    "    parent: iiwa2::iiwa_link_7\n",
    "    child: wsg2::body\n",
    "    X_PC:\n",
    "        translation: [0, 0, 0.09]\n",
    "        rotation: !Rpy {{ deg: [90, 0, 90]}}\n",
    "\n",
    "- add_model:\n",
    "    name: table\n",
    "    file: file://{os.getcwd()}/Models/ground.sdf\n",
    "- add_weld:\n",
    "    parent: world\n",
    "    child: table::base\n",
    "- add_model:\n",
    "    name: cube\n",
    "    file: file://{os.getcwd()}/Models/cube_food.sdf\n",
    "    default_free_body_pose:\n",
    "        cube_food:\n",
    "            rotation: !Rpy {{ deg: [{np.random.rand()*180}, {np.random.rand()*180}, {np.random.rand()*180}]}}\n",
    "            translation: {[-0.4-np.random.rand()*0.6, np.random.rand() - 1, 0]}\n",
    "\n",
    "- add_model:\n",
    "    name: cube2\n",
    "    file: file://{os.getcwd()}/Models/cube_food.sdf\n",
    "    default_free_body_pose:\n",
    "        cube_food:\n",
    "            rotation: !Rpy {{ deg: [{np.random.rand()*180}, {np.random.rand()*180}, {np.random.rand()*180}]}}\n",
    "            translation: {[-0.4-np.random.rand()*0.6, np.random.rand() - 1, .1]}\n",
    "\n",
    "- add_model:\n",
    "    name: cube3\n",
    "    file: file://{os.getcwd()}/Models/cube_food.sdf\n",
    "    default_free_body_pose:\n",
    "        cube_food:\n",
    "            rotation: !Rpy {{ deg: [{np.random.rand()*180}, {np.random.rand()*180}, {np.random.rand()*180}]}}\n",
    "            translation: {[-0.4-np.random.rand()*0.6, np.random.rand() - 1, .2]}\n",
    "\n",
    "# - add_model:\n",
    "#     name: cube4\n",
    "#     file: file://{os.getcwd()}/Models/cube_food.sdf\n",
    "#     default_free_body_pose:\n",
    "#         cube_food:\n",
    "#             rotation: !Rpy {{ deg: [{np.random.rand()*180}, {np.random.rand()*180}, {np.random.rand()*180}]}}\n",
    "#             translation: {[-0.4-np.random.rand()*0.6, np.random.rand() - 1, .3]}\n",
    "\n",
    "# - add_model:\n",
    "#     name: cube5\n",
    "#     file: file://{os.getcwd()}/Models/cube_food.sdf\n",
    "#     default_free_body_pose:\n",
    "#         cube_food:\n",
    "#             rotation: !Rpy {{ deg: [{np.random.rand()*180}, {np.random.rand()*180}, {np.random.rand()*180}]}}\n",
    "#             translation: {[-0.4-np.random.rand()*0.6, np.random.rand() - 1, .4]}\n",
    "\n",
    "- add_model:\n",
    "    name: skewer\n",
    "    file: file://{os.getcwd()}/Models/skewer_5mm.sdf\n",
    "    # default_free_body_pose:\n",
    "    #     skewer_5mm:\n",
    "    #         translation: [0.05, 0.2, 2]         \n",
    "- add_weld:\n",
    "    parent: wsg1::body\n",
    "    child: skewer::skewer_5mm\n",
    "    X_PC:\n",
    "        translation: [0, 0, 0]\n",
    "        rotation: !Rpy {{ deg: [270, 0, 0]}}\n",
    "\n",
    "- add_frame:\n",
    "    name: camera0_origin\n",
    "    X_PF:\n",
    "        base_frame: world\n",
    "        # rotation: !Rpy {{ deg: [180, 0, 0]}}\n",
    "        # translation: [0, 0, 4]\n",
    "        rotation: !Rpy {{ deg: [225, 0, 0]}}\n",
    "        translation: [-0.7, -1.5, 0.5]\n",
    "\n",
    "- add_model:\n",
    "    name: camera0\n",
    "    file: package://manipulation/camera_box.sdf\n",
    "\n",
    "- add_weld:\n",
    "    parent: camera0_origin\n",
    "    child: camera0::base\n",
    "\n",
    "- add_frame:\n",
    "    name: camera1_origin\n",
    "    X_PF:\n",
    "        base_frame: world\n",
    "        rotation: !Rpy {{ deg: [135, 0, 0]}}\n",
    "        translation: [-0.7, 0.5, 0.5]\n",
    "\n",
    "- add_model:\n",
    "    name: camera1\n",
    "    file: package://manipulation/camera_box.sdf\n",
    "\n",
    "- add_weld:\n",
    "    parent: camera1_origin\n",
    "    child: camera1::base\n",
    "\n",
    "# - add_model:\n",
    "#     name: pointer\n",
    "#     file: file://{os.getcwd()}/Models/skewer_5mm.sdf\n",
    "\n",
    "# - add_weld:\n",
    "#     parent: camera0_origin\n",
    "#     child: pointer::skewer_5mm\n",
    "\n",
    "\"\"\"\n",
    "\n",
    "builder = DiagramBuilder()\n",
    "\n",
    "# Add our iiwa to the scene\n",
    "plant, scene_graph = AddMultibodyPlantSceneGraph(builder, time_step=1e-3)\n",
    "plant.set_discrete_contact_approximation(DiscreteContactApproximation.kSap)\n",
    "directives = LoadModelDirectivesFromString(model_directive)\n",
    "parser = Parser(plant)\n",
    "parser.package_map().Add(\"manipulation\", manipulation.__path__[0] + \"/models/\")\n",
    "models = ProcessModelDirectives(directives, plant, parser)\n",
    "iiwa = plant.GetModelInstanceByName(\"iiwa1\")\n",
    "wsg = plant.GetModelInstanceByName(\"wsg1\")\n",
    "# Not sure why calculated gravity compensation doesn't work. This simulates perfect gravity compensation.\n",
    "plant.set_gravity_enabled(iiwa, False)\n",
    "plant.set_gravity_enabled(wsg, False)\n",
    "plant.Finalize()\n",
    "\n",
    "\n",
    "AddRgbdSensors(builder, plant, scene_graph)\n",
    "# Connect meshcat to scene\n",
    "MeshcatVisualizer.AddToBuilder(builder, scene_graph, meshcat)\n"
   ]
  },
  {
   "cell_type": "code",
   "execution_count": 10,
   "metadata": {},
   "outputs": [],
   "source": [
    "# Add our torque controller\n",
    "controller: CartesianStiffnessController = builder.AddSystem(CartesianStiffnessController(plant, \"iiwa1\", \"wsg1\"))\n",
    "controller.SetGains(\n",
    "    position=(10.0, 5.0),\n",
    "    orientation=(10.0, 5.0),\n",
    "    null_space=5.0\n",
    ")\n",
    "\n",
    "# Wire up controller torque to iiwa torque\n",
    "builder.Connect(controller.GetOutputPort(\"iiwa_torque_cmd\"), plant.get_actuation_input_port(iiwa))\n",
    "\n",
    "# Extract state from plant and feed to controller\n",
    "state_demultiplexer = builder.AddSystem(Demultiplexer([7,7]))\n",
    "builder.Connect(plant.get_state_output_port(iiwa), state_demultiplexer.get_input_port(0))\n",
    "builder.Connect(state_demultiplexer.get_output_port(0), controller.GetInputPort(\"iiwa_position_measured\"))\n",
    "builder.Connect(state_demultiplexer.get_output_port(1), controller.GetInputPort(\"iiwa_velocity_measured\"))"
   ]
  },
  {
   "cell_type": "code",
   "execution_count": null,
   "metadata": {},
   "outputs": [
    {
     "ename": "RuntimeError",
     "evalue": "DiagramBuilder::Connect: Mismatched vector sizes while connecting output port iiwa_position_cmd of System Trajectory (size 7) to input port pose_desired of System ShishKebot.CartesianStiffnessController.CartesianStiffnessController@00000001054b8010 (size 6)",
     "output_type": "error",
     "traceback": [
      "\u001b[0;31m---------------------------------------------------------------------------\u001b[0m",
      "\u001b[0;31mRuntimeError\u001b[0m                              Traceback (most recent call last)",
      "Cell \u001b[0;32mIn[11], line 7\u001b[0m\n\u001b[1;32m      4\u001b[0m builder\u001b[38;5;241m.\u001b[39mConnect(state_demultiplexer\u001b[38;5;241m.\u001b[39mget_output_port(\u001b[38;5;241m0\u001b[39m), trajectory\u001b[38;5;241m.\u001b[39mGetInputPort(\u001b[38;5;124m\"\u001b[39m\u001b[38;5;124miiwa_position_measured\u001b[39m\u001b[38;5;124m\"\u001b[39m))\n\u001b[1;32m      5\u001b[0m builder\u001b[38;5;241m.\u001b[39mConnect(test_target\u001b[38;5;241m.\u001b[39mget_output_port(\u001b[38;5;241m0\u001b[39m), trajectory\u001b[38;5;241m.\u001b[39mGetInputPort(\u001b[38;5;124m\"\u001b[39m\u001b[38;5;124mtarget_position\u001b[39m\u001b[38;5;124m\"\u001b[39m))\n\u001b[0;32m----> 7\u001b[0m \u001b[43mbuilder\u001b[49m\u001b[38;5;241;43m.\u001b[39;49m\u001b[43mConnect\u001b[49m\u001b[43m(\u001b[49m\u001b[43mtrajectory\u001b[49m\u001b[38;5;241;43m.\u001b[39;49m\u001b[43mget_output_port\u001b[49m\u001b[43m(\u001b[49m\u001b[38;5;241;43m0\u001b[39;49m\u001b[43m)\u001b[49m\u001b[43m,\u001b[49m\u001b[43m \u001b[49m\u001b[43mcontroller\u001b[49m\u001b[38;5;241;43m.\u001b[39;49m\u001b[43mGetInputPort\u001b[49m\u001b[43m(\u001b[49m\u001b[38;5;124;43m\"\u001b[39;49m\u001b[38;5;124;43mpose_desired\u001b[39;49m\u001b[38;5;124;43m\"\u001b[39;49m\u001b[43m)\u001b[49m\u001b[43m)\u001b[49m\n",
      "\u001b[0;31mRuntimeError\u001b[0m: DiagramBuilder::Connect: Mismatched vector sizes while connecting output port iiwa_position_cmd of System Trajectory (size 7) to input port pose_desired of System ShishKebot.CartesianStiffnessController.CartesianStiffnessController@00000001054b8010 (size 6)"
     ]
    }
   ],
   "source": [
    "\n",
    "trajectory = builder.AddNamedSystem(\"Trajectory\", TrajectoryPublisher(plant, \"iiwa1\", \"wsg1\"))\n",
    "test_target = builder.AddSystem(ConstantVectorSource([0, 0, 45, 0.4, 0.0, 0.5]))\n",
    "\n",
    "builder.Connect(state_demultiplexer.get_output_port(0), trajectory.GetInputPort(\"iiwa_position_measured\"))\n",
    "builder.Connect(test_target.get_output_port(0), trajectory.GetInputPort(\"target_position\"))\n",
    "\n",
    "# builder.Connect(trajectory.get_output_port(0), controller.GetInputPort(\"pose_desired\"))\n"
   ]
  },
  {
   "cell_type": "code",
   "execution_count": null,
   "metadata": {},
   "outputs": [
    {
     "data": {
      "text/plain": [
       "<manipulation.meshcat_utils.StopButton at 0x116ceba70>"
      ]
     },
     "execution_count": 12,
     "metadata": {},
     "output_type": "execute_result"
    }
   ],
   "source": [
    "zeros = builder.AddSystem(ConstantVectorSource(np.zeros(6)))\n",
    "builder.Connect(zeros.get_output_port(0), controller.GetInputPort(\"pose_desired\"))\n",
    "# Stop button for ending sim\n",
    "builder.AddSystem(StopButton(meshcat))"
   ]
  },
  {
   "cell_type": "code",
   "execution_count": null,
   "metadata": {},
   "outputs": [],
   "source": [
    "AddDefaultVisualization(builder, meshcat)\n",
    "diagram = builder.Build()\n",
    "context = diagram.CreateDefaultContext()"
   ]
  },
  {
   "cell_type": "code",
   "execution_count": null,
   "metadata": {},
   "outputs": [],
   "source": [
    "\n",
    "# RenderDiagram(diagram)\n",
    "simulator = Simulator(diagram)\n"
   ]
  },
  {
   "cell_type": "code",
   "execution_count": null,
   "metadata": {},
   "outputs": [
    {
     "data": {
      "image/png": "[encoded data removed]",
      "text/plain": [
       "<Figure size 640x480 with 1 Axes>"
      ]
     },
     "metadata": {},
     "output_type": "display_data"
    },
    {
     "data": {
      "image/png": "[encoded data removed]",
      "text/plain": [
       "<Figure size 640x480 with 1 Axes>"
      ]
     },
     "metadata": {},
     "output_type": "display_data"
    }
   ],
   "source": [
    "point_cloud = diagram.GetOutputPort(\n",
    "            \"camera0_point_cloud\"\n",
    "        ).Eval(context)\n",
    "meshcat.SetObject(f\"Camera 0 point cloud\", point_cloud)\n",
    "plt.imshow(diagram.GetOutputPort(\"camera0_rgb_image\").Eval(context).data)\n",
    "plt.show()\n",
    "point_cloud = diagram.GetOutputPort(\n",
    "            \"camera1_point_cloud\"\n",
    "        ).Eval(context)\n",
    "meshcat.SetObject(f\"Camera 1 point cloud\", point_cloud)\n",
    "plt.imshow(diagram.GetOutputPort(\"camera1_rgb_image\").Eval(context).data)\n",
    "plt.show()\n",
    "# RenderDiagram(diagram)"
   ]
  },
  {
   "cell_type": "code",
   "execution_count": null,
   "metadata": {},
   "outputs": [
    {
     "name": "stdout",
     "output_type": "stream",
     "text": [
      "Press Escape to stop the simulation\n"
     ]
    },
    {
     "ename": "KeyboardInterrupt",
     "evalue": "",
     "output_type": "error",
     "traceback": [
      "\u001b[0;31m---------------------------------------------------------------------------\u001b[0m",
      "\u001b[0;31mKeyboardInterrupt\u001b[0m                         Traceback (most recent call last)",
      "Cell \u001b[0;32mIn[16], line 2\u001b[0m\n\u001b[1;32m      1\u001b[0m simulator\u001b[38;5;241m.\u001b[39mset_target_realtime_rate(\u001b[38;5;241m1.0\u001b[39m)\n\u001b[0;32m----> 2\u001b[0m \u001b[43msimulator\u001b[49m\u001b[38;5;241;43m.\u001b[39;49m\u001b[43mAdvanceTo\u001b[49m\u001b[43m(\u001b[49m\u001b[43mnp\u001b[49m\u001b[38;5;241;43m.\u001b[39;49m\u001b[43minf\u001b[49m\u001b[43m)\u001b[49m\n",
      "\u001b[0;31mKeyboardInterrupt\u001b[0m: "
     ]
    }
   ],
   "source": [
    "\n",
    "\n",
    "simulator.set_target_realtime_rate(1.0)\n",
    "simulator.AdvanceTo(np.inf)"
   ]
  }
 ],
 "metadata": {
  "kernelspec": {
   "display_name": "env",
   "language": "python",
   "name": "python3"
  },
  "language_info": {
   "codemirror_mode": {
    "name": "ipython",
    "version": 3
   },
   "file_extension": ".py",
   "mimetype": "text/x-python",
   "name": "python",
   "nbconvert_exporter": "python",
   "pygments_lexer": "ipython3",
   "version": "3.11.1"
  }
 },
 "nbformat": 4,
 "nbformat_minor": 2
}
