{
 "cells": [
  {
   "cell_type": "code",
   "execution_count": 1,
   "metadata": {},
   "outputs": [
    {
     "name": "stderr",
     "output_type": "stream",
     "text": [
      "/home/trevor/.local/lib/python3.10/site-packages/matplotlib/projections/__init__.py:63: UserWarning: Unable to import Axes3D. This may be due to multiple versions of Matplotlib being installed (e.g. as a system package and as a pip package). As a result, the 3D projection is not available.\n",
      "  warnings.warn(\"Unable to import Axes3D. This may be due to multiple versions of \"\n"
     ]
    }
   ],
   "source": [
    "# External libraries\n",
    "import numpy as np\n",
    "from matplotlib import pyplot as plt\n",
    "\n",
    "# Drake dependencies\n",
    "from pydrake.all import (\n",
    "    DiagramBuilder,\n",
    "    Simulator,\n",
    "    StartMeshcat,\n",
    "    MultibodyPlant,\n",
    "    Demultiplexer,\n",
    "    DiscreteContactApproximation,\n",
    "    ConstantVectorSource,\n",
    "    Parser,\n",
    "    AddMultibodyPlantSceneGraph,\n",
    "    ConstantVectorSource,\n",
    "    DiagramBuilder,\n",
    "    JointSliders,\n",
    "    MeshcatVisualizer,\n",
    "    MeshcatVisualizerParams,\n",
    "    MultibodyPlant,\n",
    "    MultibodyPositionToGeometryPose,\n",
    "    Multiplexer,\n",
    "    Parser,\n",
    "    PrismaticJoint,\n",
    "    SceneGraph,\n",
    "    SpatialInertia,\n",
    "    Sphere,\n",
    "    UnitInertia,\n",
    "    MeshcatVisualizerParams,\n",
    "    LoadModelDirectivesFromString,\n",
    "    ProcessModelDirectives,\n",
    "    AddDefaultVisualization\n",
    ")\n",
    "\n",
    "# Custom classes and functions\n",
    "from ShishKebot.CartesianStiffnessController import CartesianStiffnessController\n",
    "\n",
    "# Helper functions\n",
    "import manipulation\n",
    "from manipulation.meshcat_utils import MeshcatSliders, StopButton\n",
    "from manipulation.scenarios import AddShape\n",
    "from manipulation.utils import RenderDiagram\n",
    "from manipulation.scenarios import AddRgbdSensors\n",
    "import os\n",
    "import sys "
   ]
  },
  {
   "cell_type": "code",
   "execution_count": 2,
   "metadata": {},
   "outputs": [
    {
     "name": "stderr",
     "output_type": "stream",
     "text": [
      "INFO:drake:Meshcat listening for connections at http://localhost:7001\n"
     ]
    }
   ],
   "source": [
    "meshcat = StartMeshcat()\n",
    "meshcat.SetProperty(\"/Background\", \"visible\", False)\n",
    "meshcat.SetProperty(\"/Cameras/default/rotated/<object>\", \"zoom\", 10.5)"
   ]
  },
  {
   "cell_type": "code",
   "execution_count": 3,
   "metadata": {},
   "outputs": [],
   "source": [
    "iiwa1_directive = f\"\"\"\n",
    "directives:\n",
    "- add_model:\n",
    "    name: iiwa1\n",
    "    file: package://drake_models/iiwa_description/sdf/iiwa7_with_box_collision.sdf\n",
    "    default_joint_positions:\n",
    "        iiwa_joint_1: [0.0]\n",
    "        iiwa_joint_2: [0.0]\n",
    "        iiwa_joint_3: [0.0]\n",
    "        iiwa_joint_4: [0.0]\n",
    "        iiwa_joint_5: [0.0]\n",
    "        iiwa_joint_6: [0.0]\n",
    "        iiwa_joint_7: [0.0]\n",
    "- add_weld:\n",
    "    parent: world\n",
    "    child: iiwa1::iiwa_link_0\n",
    "    X_PC:\n",
    "        translation: [0, 0.5, 0]\n",
    "- add_model:\n",
    "    name: wsg1\n",
    "    file: package://manipulation/schunk_wsg_50_welded_fingers.sdf\n",
    "- add_weld:\n",
    "    parent: iiwa1::iiwa_link_7\n",
    "    child: wsg1::body\n",
    "    X_PC:\n",
    "        translation: [0, 0, 0.09]\n",
    "        rotation: !Rpy {{ deg: [90, 0, 90]}}\n",
    "\n",
    "- add_model:\n",
    "    name: skewer\n",
    "    file: file://{os.getcwd()}/Models/skewer_5mm.sdf\n",
    "    # default_free_body_pose:\n",
    "    #     skewer_5mm:\n",
    "    #         translation: [0.05, 0.2, 2]         \n",
    "- add_weld:\n",
    "    parent: wsg1::body\n",
    "    child: skewer::skewer_5mm\n",
    "    X_PC:\n",
    "        translation: [0, 0, 0]\n",
    "        rotation: !Rpy {{ deg: [270, 0, 0]}}\n",
    "\"\"\"\n",
    "\n",
    "iiwa2_directive = f\"\"\"\n",
    "directives:\n",
    "- add_model:\n",
    "    name: iiwa2\n",
    "    file: package://drake_models/iiwa_description/sdf/iiwa7_with_box_collision.sdf\n",
    "    default_joint_positions:\n",
    "        iiwa_joint_1: [0.0]\n",
    "        iiwa_joint_2: [0.6]\n",
    "        iiwa_joint_3: [0.0]\n",
    "        iiwa_joint_4: [-1.75]\n",
    "        iiwa_joint_5: [0.0]\n",
    "        iiwa_joint_6: [1.0]\n",
    "        iiwa_joint_7: [0.0]\n",
    "- add_weld:\n",
    "    parent: world\n",
    "    child: iiwa2::iiwa_link_0\n",
    "    X_PC:\n",
    "        translation: [0, -0.5, 0]\n",
    "- add_model:\n",
    "    name: wsg2\n",
    "    file: package://manipulation/schunk_wsg_50_welded_fingers.sdf\n",
    "- add_weld:\n",
    "    parent: iiwa2::iiwa_link_7\n",
    "    child: wsg2::body\n",
    "    X_PC:\n",
    "        translation: [0, 0, 0.09]\n",
    "        rotation: !Rpy {{ deg: [90, 0, 90]}}\n",
    "\"\"\"\n",
    "\n",
    "world_directive = f\"\"\"\n",
    "directives:\n",
    "- add_model:\n",
    "    name: table\n",
    "    file: file://{os.getcwd()}/Models/ground.sdf\n",
    "- add_weld:\n",
    "    parent: world\n",
    "    child: table::base\n",
    "\n",
    "- add_model:\n",
    "    name: cube\n",
    "    file: file://{os.getcwd()}/Models/cube_food.sdf\n",
    "    default_free_body_pose:\n",
    "        cube_food:\n",
    "            rotation: !Rpy {{ deg: [{np.random.rand()*180}, {np.random.rand()*180}, {np.random.rand()*180}]}}\n",
    "            translation: {[-0.4-np.random.rand()*0.6, np.random.rand() - 1, 0]}\n",
    "- add_model:\n",
    "    name: cube2\n",
    "    file: file://{os.getcwd()}/Models/cube_food.sdf\n",
    "    default_free_body_pose:\n",
    "        cube_food:\n",
    "            rotation: !Rpy {{ deg: [{np.random.rand()*180}, {np.random.rand()*180}, {np.random.rand()*180}]}}\n",
    "            translation: {[-0.4-np.random.rand()*0.6, np.random.rand() - 1, .1]}\n",
    "- add_model:\n",
    "    name: cube3\n",
    "    file: file://{os.getcwd()}/Models/cube_food.sdf\n",
    "    default_free_body_pose:\n",
    "        cube_food:\n",
    "            rotation: !Rpy {{ deg: [{np.random.rand()*180}, {np.random.rand()*180}, {np.random.rand()*180}]}}\n",
    "            translation: {[-0.4-np.random.rand()*0.6, np.random.rand() - 1, .2]}\n",
    "\n",
    "- add_frame:\n",
    "    name: camera0_origin\n",
    "    X_PF:\n",
    "        base_frame: world\n",
    "        # rotation: !Rpy {{ deg: [180, 0, 0]}}\n",
    "        # translation: [0, 0, 4]\n",
    "        rotation: !Rpy {{ deg: [225, 0, 0]}}\n",
    "        translation: [-0.7, -1.5, 0.5]\n",
    "- add_model:\n",
    "    name: camera0\n",
    "    file: package://manipulation/camera_box.sdf\n",
    "- add_weld:\n",
    "    parent: camera0_origin\n",
    "    child: camera0::base\n",
    "\n",
    "- add_frame:\n",
    "    name: camera1_origin\n",
    "    X_PF:\n",
    "        base_frame: world\n",
    "        rotation: !Rpy {{ deg: [135, 0, 0]}}\n",
    "        translation: [-0.7, 0.5, 0.5]\n",
    "- add_model:\n",
    "    name: camera1\n",
    "    file: package://manipulation/camera_box.sdf\n",
    "- add_weld:\n",
    "    parent: camera1_origin\n",
    "    child: camera1::base\n",
    "\"\"\""
   ]
  },
  {
   "cell_type": "code",
   "execution_count": 11,
   "metadata": {},
   "outputs": [],
   "source": [
    "builder = DiagramBuilder()"
   ]
  },
  {
   "cell_type": "code",
   "execution_count": 12,
   "metadata": {},
   "outputs": [
    {
     "data": {
      "text/plain": [
       "<pydrake.geometry.MeshcatVisualizer at 0x72bfbc74bc30>"
      ]
     },
     "execution_count": 12,
     "metadata": {},
     "output_type": "execute_result"
    }
   ],
   "source": [
    "# Add iiwa1 to the scene\n",
    "iiwa1_plant, iiwa1_scene_graph = AddMultibodyPlantSceneGraph(builder, time_step=1e-3)\n",
    "iiwa1_plant.set_name(\"iiwa1_plant\")\n",
    "iiwa1_scene_graph.set_name(\"iiwa1_scene_graph\")\n",
    "iiwa1_plant.set_discrete_contact_approximation(DiscreteContactApproximation.kSap)\n",
    "directives = LoadModelDirectivesFromString(iiwa1_directive)\n",
    "parser = Parser(iiwa1_plant)\n",
    "parser.package_map().Add(\"manipulation\", manipulation.__path__[0] + \"/models/\")\n",
    "models = ProcessModelDirectives(directives, iiwa1_plant, parser)\n",
    "iiwa1 = iiwa1_plant.GetModelInstanceByName(\"iiwa1\")\n",
    "wsg1 = iiwa1_plant.GetModelInstanceByName(\"wsg1\")\n",
    "iiwa1_plant.Finalize()\n",
    "\n",
    "# Meshcat\n",
    "params = MeshcatVisualizerParams()\n",
    "params.prefix = \"iiwa1\"\n",
    "MeshcatVisualizer.AddToBuilder(builder, iiwa1_scene_graph, meshcat, params)"
   ]
  },
  {
   "cell_type": "code",
   "execution_count": 13,
   "metadata": {},
   "outputs": [
    {
     "data": {
      "text/plain": [
       "<pydrake.geometry.MeshcatVisualizer at 0x72bfd0b18370>"
      ]
     },
     "execution_count": 13,
     "metadata": {},
     "output_type": "execute_result"
    }
   ],
   "source": [
    "# Add iiwa2 to the scene\n",
    "iiwa2_plant, iiwa2_scene_graph = AddMultibodyPlantSceneGraph(builder, time_step=1e-3)\n",
    "iiwa2_plant.set_name(\"iiwa2_plant\")\n",
    "iiwa2_scene_graph.set_name(\"iiwa2_scene_graph\")\n",
    "iiwa2_plant.set_discrete_contact_approximation(DiscreteContactApproximation.kSap)\n",
    "directives = LoadModelDirectivesFromString(iiwa2_directive)\n",
    "parser = Parser(iiwa2_plant)\n",
    "parser.package_map().Add(\"manipulation\", manipulation.__path__[0] + \"/models/\")\n",
    "models = ProcessModelDirectives(directives, iiwa2_plant, parser)\n",
    "iiwa2 = iiwa2_plant.GetModelInstanceByName(\"iiwa2\")\n",
    "wsg2 = iiwa2_plant.GetModelInstanceByName(\"wsg2\")\n",
    "iiwa2_plant.Finalize()\n",
    "\n",
    "# Meshcat\n",
    "params = MeshcatVisualizerParams()\n",
    "params.prefix = \"iiwa2\"\n",
    "MeshcatVisualizer.AddToBuilder(builder, iiwa2_scene_graph, meshcat, params)"
   ]
  },
  {
   "cell_type": "code",
   "execution_count": 14,
   "metadata": {},
   "outputs": [
    {
     "name": "stderr",
     "output_type": "stream",
     "text": [
      "WARNING:drake://mnt/shared/repos/Shish-Kebot/Models/ground.sdf: warning: Rigid geometries defined with the tag drake:rigid_hydroelastic should not contain the tag drake:hydroelastic_modulus. The specified value (1000000) will be ignored.\n"
     ]
    }
   ],
   "source": [
    "# Add world models to the scene\n",
    "world_plant, world_scene_graph = AddMultibodyPlantSceneGraph(builder, time_step=1e-3)\n",
    "world_plant.set_name(\"world_plant\")\n",
    "world_scene_graph.set_name(\"world_scene_graph\")\n",
    "world_plant.set_discrete_contact_approximation(DiscreteContactApproximation.kSap)\n",
    "directives = LoadModelDirectivesFromString(world_directive)\n",
    "parser = Parser(world_plant)\n",
    "parser.package_map().Add(\"manipulation\", manipulation.__path__[0] + \"/models/\")\n",
    "models = ProcessModelDirectives(directives, world_plant, parser)\n",
    "world_plant.Finalize()\n",
    "\n",
    "# Meshcat\n",
    "params = MeshcatVisualizerParams()\n",
    "params.prefix = \"world\"\n",
    "MeshcatVisualizer.AddToBuilder(builder, world_scene_graph, meshcat, params)\n",
    "\n",
    "# Add the cameras to the diagram\n",
    "AddRgbdSensors(builder, world_plant, world_scene_graph)"
   ]
  },
  {
   "cell_type": "code",
   "execution_count": null,
   "metadata": {},
   "outputs": [],
   "source": [
    "# Add our torque controller\n",
    "controller: CartesianStiffnessController = builder.AddSystem(CartesianStiffnessController(plant, \"iiwa1\", \"wsg1\"))\n",
    "controller.SetGains(\n",
    "    position=(10.0, 5.0),\n",
    "    orientation=(10.0, 5.0),\n",
    "    null_space=5.0\n",
    ")\n",
    "\n",
    "# Wire up controller torque to iiwa torque\n",
    "builder.Connect(controller.GetOutputPort(\"iiwa_torque_cmd\"), plant.get_actuation_input_port(iiwa))\n",
    "\n",
    "# Extract state from plant and feed to controller\n",
    "state_demultiplexer = builder.AddSystem(Demultiplexer([7,7]))\n",
    "builder.Connect(plant.get_state_output_port(iiwa), state_demultiplexer.get_input_port(0))\n",
    "builder.Connect(state_demultiplexer.get_output_port(0), controller.GetInputPort(\"iiwa_position_measured\"))\n",
    "builder.Connect(state_demultiplexer.get_output_port(1), controller.GetInputPort(\"iiwa_velocity_measured\"))\n"
   ]
  },
  {
   "cell_type": "code",
   "execution_count": 9,
   "metadata": {},
   "outputs": [],
   "source": [
    "diagram = builder.Build()\n",
    "simulator = Simulator(diagram)"
   ]
  },
  {
   "cell_type": "code",
   "execution_count": 10,
   "metadata": {},
   "outputs": [
    {
     "ename": "KeyboardInterrupt",
     "evalue": "",
     "output_type": "error",
     "traceback": [
      "\u001b[0;31m---------------------------------------------------------------------------\u001b[0m",
      "\u001b[0;31mKeyboardInterrupt\u001b[0m                         Traceback (most recent call last)",
      "Cell \u001b[0;32mIn[10], line 2\u001b[0m\n\u001b[1;32m      1\u001b[0m simulator\u001b[38;5;241m.\u001b[39mset_target_realtime_rate(\u001b[38;5;241m1.0\u001b[39m)\n\u001b[0;32m----> 2\u001b[0m \u001b[43msimulator\u001b[49m\u001b[38;5;241;43m.\u001b[39;49m\u001b[43mAdvanceTo\u001b[49m\u001b[43m(\u001b[49m\u001b[43mnp\u001b[49m\u001b[38;5;241;43m.\u001b[39;49m\u001b[43minf\u001b[49m\u001b[43m)\u001b[49m\n",
      "\u001b[0;31mKeyboardInterrupt\u001b[0m: "
     ]
    }
   ],
   "source": [
    "simulator.set_target_realtime_rate(1.0)\n",
    "simulator.AdvanceTo(np.inf)"
   ]
  }
 ],
 "metadata": {
  "kernelspec": {
   "display_name": "usr",
   "language": "python",
   "name": "python3"
  },
  "language_info": {
   "codemirror_mode": {
    "name": "ipython",
    "version": 3
   },
   "file_extension": ".py",
   "mimetype": "text/x-python",
   "name": "python",
   "nbconvert_exporter": "python",
   "pygments_lexer": "ipython3",
   "version": "3.10.12"
  }
 },
 "nbformat": 4,
 "nbformat_minor": 2
}
