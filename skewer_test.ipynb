{
 "cells": [
  {
   "cell_type": "code",
   "execution_count": 1,
   "metadata": {},
   "outputs": [
    {
     "name": "stderr",
     "output_type": "stream",
     "text": [
      "INFO:drake:Meshcat listening for connections at http://localhost:7002\n"
     ]
    }
   ],
   "source": [
    "# External libraries\n",
    "import numpy as np\n",
    "import os\n",
    "\n",
    "# Drake dependencies\n",
    "from pydrake.all import (\n",
    "    DiagramBuilder,\n",
    "    Simulator,\n",
    "    AddDefaultVisualization,\n",
    "    StartMeshcat,\n",
    "    MultibodyPlant,\n",
    "    Demultiplexer,\n",
    "    ConstantVectorSource,\n",
    "    Parser,\n",
    "    AddMultibodyPlantSceneGraph,\n",
    "    ConstantVectorSource,\n",
    "    DiagramBuilder,\n",
    "    JointSliders,\n",
    "    MeshcatVisualizer,\n",
    "    MultibodyPlant,\n",
    "    MultibodyPositionToGeometryPose,\n",
    "    Multiplexer,\n",
    "    Parser,\n",
    "    PrismaticJoint,\n",
    "    SceneGraph,\n",
    "    Simulator,\n",
    "    SpatialInertia,\n",
    "    Sphere,\n",
    "    StartMeshcat,\n",
    "    UnitInertia,\n",
    "    MeshcatVisualizerParams,\n",
    "    LoadModelDirectives,\n",
    "    LoadModelDirectivesFromString,\n",
    "    ProcessModelDirectives,\n",
    "    DiscreteContactApproximation\n",
    ")\n",
    "\n",
    "import manipulation\n",
    "from manipulation.meshcat_utils import MeshcatSliders, StopButton\n",
    "from manipulation.utils import RenderDiagram, ConfigureParser\n",
    "\n",
    "meshcat = StartMeshcat()"
   ]
  },
  {
   "cell_type": "code",
   "execution_count": null,
   "metadata": {},
   "outputs": [],
   "source": [
    "model_directive = f\"\"\"\n",
    "directives:\n",
    "- add_model:\n",
    "    name: food\n",
    "    file: file://{os.getcwd()}/Models/cube_food.sdf\n",
    "- add_weld:\n",
    "    parent: world\n",
    "    child: food::cube_food\n",
    "- add_model:\n",
    "    name: skewer\n",
    "    file: file://{os.getcwd()}/Models/skewer_5mm.sdf\n",
    "    default_free_body_pose:\n",
    "        skewer_5mm:\"\"\" + \"\"\"\n",
    "            translation: [-0.052, -0.052, 0.1]\n",
    "            rotation: !Rpy { deg: [0, 0, 90]}\n",
    "\"\"\""
   ]
  },
  {
   "cell_type": "code",
   "execution_count": 3,
   "metadata": {},
   "outputs": [],
   "source": [
    "meshcat.DeleteAddedControls()\n",
    "\n",
    "builder = DiagramBuilder()\n",
    "\n",
    "plant, scene_graph = AddMultibodyPlantSceneGraph(builder, time_step=2e-4)\n",
    "plant.set_discrete_contact_approximation(DiscreteContactApproximation.kLagged)\n",
    "directives = LoadModelDirectivesFromString(model_directive)\n",
    "parser = Parser(plant)\n",
    "parser.package_map().Add(\"manipulation\", manipulation.__path__[0] + \"/models/\")\n",
    "models = ProcessModelDirectives(directives, plant, parser)\n",
    "plant.Finalize()\n",
    "\n",
    "AddDefaultVisualization(builder=builder, meshcat=meshcat)"
   ]
  },
  {
   "cell_type": "code",
   "execution_count": 4,
   "metadata": {},
   "outputs": [],
   "source": [
    "diagram = builder.Build()\n",
    "simulator = Simulator(diagram)"
   ]
  },
  {
   "cell_type": "code",
   "execution_count": 5,
   "metadata": {},
   "outputs": [
    {
     "name": "stdout",
     "output_type": "stream",
     "text": [
      "0.06209830016537631\n"
     ]
    }
   ],
   "source": [
    "meshcat.StartRecording()\n",
    "simulator.AdvanceTo(2.0)\n",
    "meshcat.PublishRecording()\n",
    "print(simulator.get_actual_realtime_rate())"
   ]
  }
 ],
 "metadata": {
  "kernelspec": {
   "display_name": "env",
   "language": "python",
   "name": "python3"
  },
  "language_info": {
   "codemirror_mode": {
    "name": "ipython",
    "version": 3
   },
   "file_extension": ".py",
   "mimetype": "text/x-python",
   "name": "python",
   "nbconvert_exporter": "python",
   "pygments_lexer": "ipython3",
   "version": "3.11.1"
  }
 },
 "nbformat": 4,
 "nbformat_minor": 2
}
