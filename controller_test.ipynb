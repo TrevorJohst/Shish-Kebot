{
 "cells": [
  {
   "cell_type": "code",
   "execution_count": null,
   "metadata": {},
   "outputs": [],
   "source": [
    "# External libraries\n",
    "import numpy as np\n",
    "\n",
    "# Drake dependencies\n",
    "from pydrake.all import (\n",
    "    DiagramBuilder,\n",
    "    Simulator,\n",
    "    StartMeshcat,\n",
    "    MultibodyPlant,\n",
    "    Demultiplexer,\n",
    "    ConstantVectorSource,\n",
    "    Parser,\n",
    "    AddMultibodyPlantSceneGraph,\n",
    "    ConstantVectorSource,\n",
    "    DiagramBuilder,\n",
    "    JointSliders,\n",
    "    MeshcatVisualizer,\n",
    "    MultibodyPlant,\n",
    "    MultibodyPositionToGeometryPose,\n",
    "    Multiplexer,\n",
    "    Parser,\n",
    "    PrismaticJoint,\n",
    "    SceneGraph,\n",
    "    Simulator,\n",
    "    SpatialInertia,\n",
    "    Sphere,\n",
    "    StartMeshcat,\n",
    "    UnitInertia,\n",
    "    MeshcatVisualizerParams,\n",
    "    LoadModelDirectives,\n",
    "    LoadModelDirectivesFromString,\n",
    "    ProcessModelDirectives,\n",
    ")\n",
    "\n",
    "# Custom classes and functions\n",
    "from CartesianStiffnessController import CartesianStiffnessController\n",
    "\n",
    "# Helper functions\n",
    "from manipulation.meshcat_utils import MeshcatSliders, StopButton\n",
    "from manipulation.scenarios import AddShape\n",
    "from manipulation.utils import RenderDiagram"
   ]
  },
  {
   "cell_type": "code",
   "execution_count": 2,
   "metadata": {},
   "outputs": [
    {
     "name": "stderr",
     "output_type": "stream",
     "text": [
      "INFO:drake:Meshcat listening for connections at http://localhost:7000\n"
     ]
    }
   ],
   "source": [
    "meshcat = StartMeshcat()"
   ]
  },
  {
   "cell_type": "code",
   "execution_count": 3,
   "metadata": {},
   "outputs": [],
   "source": [
    "model_directive = \"\"\"\n",
    "directives:\n",
    "- add_model:\n",
    "    name: iiwa\n",
    "    file: package://drake_models/iiwa_description/sdf/iiwa7_no_collision.sdf\n",
    "    default_joint_positions:\n",
    "        iiwa_joint_1: [0.0]\n",
    "        iiwa_joint_2: [0.6]\n",
    "        iiwa_joint_3: [0.0]\n",
    "        iiwa_joint_4: [-1.75]\n",
    "        iiwa_joint_5: [0.0]\n",
    "        iiwa_joint_6: [1.0]\n",
    "        iiwa_joint_7: [0.0]\n",
    "- add_weld:\n",
    "    parent: world\n",
    "    child: iiwa::iiwa_link_0\n",
    "- add_model:\n",
    "    name: wsg\n",
    "    file: package://manipulation/schunk_wsg_50_welded_fingers.sdf\n",
    "- add_weld:\n",
    "    parent: iiwa::iiwa_link_7\n",
    "    child: wsg::body\n",
    "    X_PC:\n",
    "        translation: [0, 0, 0.09]\n",
    "        rotation: !Rpy { deg: [90, 0, 90]}\n",
    "\"\"\""
   ]
  },
  {
   "cell_type": "code",
   "execution_count": null,
   "metadata": {},
   "outputs": [],
   "source": [
    "meshcat.DeleteAddedControls()\n",
    "\n",
    "builder = DiagramBuilder()\n",
    "\n",
    "# Add our iiwa to the scene\n",
    "plant, scene_graph = AddMultibodyPlantSceneGraph(builder, time_step=1e-4)\n",
    "directives = LoadModelDirectivesFromString(model_directive)\n",
    "parser = Parser(plant)\n",
    "parser.package_map().Add(\"manipulation\", \"/home/trevor/.local/lib/python3.10/site-packages/manipulation/models/\")\n",
    "models = ProcessModelDirectives(directives, plant, parser)\n",
    "iiwa = plant.GetModelInstanceByName(\"iiwa\")\n",
    "wsg = plant.GetModelInstanceByName(\"wsg\")\n",
    "# Not sure why calculated gravity compensation doesn't work. This simulates perfect gravity compensation.\n",
    "plant.set_gravity_enabled(iiwa, False)\n",
    "plant.set_gravity_enabled(wsg, False)\n",
    "plant.Finalize()\n",
    "\n",
    "# Connect meshcat to scene\n",
    "MeshcatVisualizer.AddToBuilder(builder, scene_graph, meshcat)\n",
    "\n",
    "# Add our torque controller\n",
    "controller: CartesianStiffnessController = builder.AddSystem(CartesianStiffnessController(plant, \"iiwa\"))\n",
    "controller.SetGains(\n",
    "    position=(10.0, 5.0),\n",
    "    orientation=(10.0, 5.0),\n",
    "    null_space=5.0\n",
    ")\n",
    "\n",
    "# Wire up controller torque to iiwa torque\n",
    "builder.Connect(controller.GetOutputPort(\"iiwa_torque_cmd\"), plant.get_actuation_input_port())\n",
    "\n",
    "# Extract state from plant and feed to controller\n",
    "state_demultiplexer = builder.AddSystem(Demultiplexer([7,7]))\n",
    "builder.Connect(plant.get_state_output_port(iiwa), state_demultiplexer.get_input_port(0))\n",
    "builder.Connect(state_demultiplexer.get_output_port(0), controller.GetInputPort(\"iiwa_position_measured\"))\n",
    "builder.Connect(state_demultiplexer.get_output_port(1), controller.GetInputPort(\"iiwa_velocity_measured\"))"
   ]
  },
  {
   "cell_type": "code",
   "execution_count": 5,
   "metadata": {},
   "outputs": [
    {
     "data": {
      "text/plain": [
       "<manipulation.meshcat_utils.StopButton at 0x732b72dd2e60>"
      ]
     },
     "execution_count": 5,
     "metadata": {},
     "output_type": "execute_result"
    }
   ],
   "source": [
    "# Make a second plant for a desired point visualization\n",
    "vis_scene_graph = builder.AddSystem(SceneGraph())\n",
    "vis_plant = MultibodyPlant(time_step=0.005)\n",
    "vis_plant.RegisterAsSourceForSceneGraph(vis_scene_graph)\n",
    "\n",
    "# Add the point and a couple false bodies to give the point 3 DOF\n",
    "point_body = AddShape(vis_plant, Sphere(0.03), \"point_body\", color=[0.9, 0.5, 0.5, 1.0])\n",
    "vis_plant.AddRigidBody(\"false_body1\", point_body, SpatialInertia(0, [0, 0, 0], UnitInertia(0, 0, 0)))\n",
    "vis_plant.AddRigidBody(\"false_body2\", point_body, SpatialInertia(0, [0, 0, 0], UnitInertia(0, 0, 0)))\n",
    "\n",
    "# \"Mount\" the point on 3 prismatic joints\n",
    "false_x = vis_plant.AddJoint(\n",
    "    PrismaticJoint(\n",
    "        \"false_x\",\n",
    "        vis_plant.world_frame(),\n",
    "        vis_plant.GetFrameByName(\"false_body1\"),\n",
    "        [1, 0, 0]\n",
    "    ))\n",
    "false_x.set_default_translation(0.47)\n",
    "vis_plant.AddJointActuator(\"false_x\", false_x)\n",
    "false_y = vis_plant.AddJoint(\n",
    "    PrismaticJoint(\n",
    "        \"false_y\",\n",
    "        vis_plant.GetFrameByName(\"false_body1\"),\n",
    "        vis_plant.GetFrameByName(\"false_body2\"),\n",
    "        [0, 1, 0]\n",
    "    ))\n",
    "vis_plant.AddJointActuator(\"false_y\", false_y)\n",
    "false_z = vis_plant.AddJoint(\n",
    "    PrismaticJoint(\n",
    "        \"false_z\",\n",
    "        vis_plant.GetFrameByName(\"false_body2\"),\n",
    "        vis_plant.GetFrameByName(\"point_body\"),\n",
    "        [0, 0, 1]\n",
    "    ))\n",
    "false_z.set_default_translation(0.22)\n",
    "vis_plant.AddJointActuator(\"false_z\", false_z)\n",
    "vis_plant.Finalize()\n",
    "\n",
    "# Visualize the new scene graph\n",
    "params = MeshcatVisualizerParams()\n",
    "params.prefix = \"teleop\"\n",
    "MeshcatVisualizer.AddToBuilder(\n",
    "    builder,\n",
    "    vis_scene_graph,\n",
    "    meshcat,\n",
    "    params\n",
    ")\n",
    "\n",
    "# Helper system to let us directly set the position of the point\n",
    "positions_to_poses = builder.AddSystem(MultibodyPositionToGeometryPose(vis_plant))\n",
    "builder.Connect(positions_to_poses.get_output_port(), vis_scene_graph.get_source_pose_port(vis_plant.get_source_id()))\n",
    "\n",
    "# Position sliders for teleop control of the point\n",
    "position_sliders = builder.AddSystem(\n",
    "    JointSliders(\n",
    "        meshcat,\n",
    "        vis_plant,\n",
    "        step=0.01,\n",
    "        decrement_keycodes=[\"KeyA\", \"KeyS\", \"KeyZ\"],\n",
    "        increment_keycodes=[\"KeyD\", \"KeyW\", \"KeyX\"],\n",
    "    ))\n",
    "builder.Connect(position_sliders.get_output_port(), positions_to_poses.get_input_port(),)\n",
    "\n",
    "# Send the position of the point and 0 angle as the desired state for our end effector\n",
    "positions_to_state = builder.AddSystem(Multiplexer([3, 3]))\n",
    "zeros = builder.AddSystem(ConstantVectorSource([-1.362, 0, 1.57]))\n",
    "builder.Connect(zeros.get_output_port(0), positions_to_state.get_input_port(0))\n",
    "builder.Connect(position_sliders.get_output_port(), positions_to_state.get_input_port(1))\n",
    "builder.Connect(positions_to_state.get_output_port(), controller.GetInputPort(\"pose_desired\"))\n",
    "\n",
    "# Stop button for ending sim\n",
    "builder.AddSystem(StopButton(meshcat))"
   ]
  },
  {
   "cell_type": "code",
   "execution_count": 6,
   "metadata": {},
   "outputs": [],
   "source": [
    "diagram = builder.Build()\n",
    "simulator = Simulator(diagram)"
   ]
  },
  {
   "cell_type": "code",
   "execution_count": 7,
   "metadata": {},
   "outputs": [
    {
     "name": "stdout",
     "output_type": "stream",
     "text": [
      "Press Escape to stop the simulation\n"
     ]
    },
    {
     "data": {
      "text/plain": [
       "<pydrake.systems.analysis.SimulatorStatus at 0x732b73d21c30>"
      ]
     },
     "execution_count": 7,
     "metadata": {},
     "output_type": "execute_result"
    }
   ],
   "source": [
    "simulator.set_target_realtime_rate(1.0)\n",
    "simulator.AdvanceTo(np.inf)"
   ]
  }
 ],
 "metadata": {
  "kernelspec": {
   "display_name": "usr",
   "language": "python",
   "name": "python3"
  },
  "language_info": {
   "codemirror_mode": {
    "name": "ipython",
    "version": 3
   },
   "file_extension": ".py",
   "mimetype": "text/x-python",
   "name": "python",
   "nbconvert_exporter": "python",
   "pygments_lexer": "ipython3",
   "version": "3.10.12"
  }
 },
 "nbformat": 4,
 "nbformat_minor": 2
}
