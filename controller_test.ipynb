{
 "cells": [
  {
   "cell_type": "code",
   "execution_count": 8,
   "metadata": {},
   "outputs": [],
   "source": [
    "# External libraries\n",
    "import numpy as np\n",
    "\n",
    "# Drake dependencies\n",
    "from pydrake.all import (\n",
    "    DiagramBuilder,\n",
    "    Simulator,\n",
    "    StartMeshcat,\n",
    "    MultibodyPlant,\n",
    "    Demultiplexer,\n",
    "    ConstantVectorSource,\n",
    "    Parser,\n",
    "    AddMultibodyPlantSceneGraph,\n",
    "    ConstantVectorSource,\n",
    "    DiagramBuilder,\n",
    "    JointSliders,\n",
    "    MeshcatVisualizer,\n",
    "    MultibodyPlant,\n",
    "    MultibodyPositionToGeometryPose,\n",
    "    Multiplexer,\n",
    "    Parser,\n",
    "    PrismaticJoint,\n",
    "    SceneGraph,\n",
    "    Simulator,\n",
    "    SpatialInertia,\n",
    "    Sphere,\n",
    "    StartMeshcat,\n",
    "    UnitInertia,\n",
    "    MeshcatVisualizerParams,\n",
    "    LoadModelDirectives,\n",
    "    LoadModelDirectivesFromString,\n",
    "    ProcessModelDirectives,\n",
    ")\n",
    "\n",
    "# Custom classes and functions\n",
    "from CartesianStiffnessController import CartesianStiffnessController\n",
    "\n",
    "# Helper functions\n",
    "import manipulation\n",
    "from manipulation.meshcat_utils import MeshcatSliders, StopButton\n",
    "from manipulation.scenarios import AddShape\n",
    "from manipulation.utils import RenderDiagram"
   ]
  },
  {
   "cell_type": "code",
   "execution_count": 9,
   "metadata": {},
   "outputs": [
    {
     "name": "stderr",
     "output_type": "stream",
     "text": [
      "INFO:drake:Meshcat listening for connections at http://localhost:7003\n"
     ]
    }
   ],
   "source": [
    "meshcat = StartMeshcat()"
   ]
  },
  {
   "cell_type": "code",
   "execution_count": 10,
   "metadata": {},
   "outputs": [],
   "source": [
    "model_directive = \"\"\"\n",
    "directives:\n",
    "- add_model:\n",
    "    name: iiwa\n",
    "    file: package://drake_models/iiwa_description/sdf/iiwa7_no_collision.sdf\n",
    "    default_joint_positions:\n",
    "        iiwa_joint_1: [0.0]\n",
    "        iiwa_joint_2: [0.6]\n",
    "        iiwa_joint_3: [0.0]\n",
    "        iiwa_joint_4: [-1.75]\n",
    "        iiwa_joint_5: [0.0]\n",
    "        iiwa_joint_6: [1.0]\n",
    "        iiwa_joint_7: [0.0]\n",
    "- add_weld:\n",
    "    parent: world\n",
    "    child: iiwa::iiwa_link_0\n",
    "- add_model:\n",
    "    name: wsg\n",
    "    file: package://manipulation/schunk_wsg_50_welded_fingers.sdf\n",
    "- add_weld:\n",
    "    parent: iiwa::iiwa_link_7\n",
    "    child: wsg::body\n",
    "    X_PC:\n",
    "        translation: [0, 0, 0.09]\n",
    "        rotation: !Rpy { deg: [90, 0, 90]}\n",
    "\"\"\""
   ]
  },
  {
   "cell_type": "code",
   "execution_count": 11,
   "metadata": {},
   "outputs": [],
   "source": [
    "meshcat.DeleteAddedControls()\n",
    "\n",
    "builder = DiagramBuilder()\n",
    "\n",
    "# Add our iiwa to the scene\n",
    "plant, scene_graph = AddMultibodyPlantSceneGraph(builder, time_step=1e-4)\n",
    "directives = LoadModelDirectivesFromString(model_directive)\n",
    "parser = Parser(plant)\n",
    "parser.package_map().Add(\"manipulation\", manipulation.__path__[0] + \"/models/\")\n",
    "models = ProcessModelDirectives(directives, plant, parser)\n",
    "iiwa = plant.GetModelInstanceByName(\"iiwa\")\n",
    "wsg = plant.GetModelInstanceByName(\"wsg\")\n",
    "# Not sure why calculated gravity compensation doesn't work. This simulates perfect gravity compensation.\n",
    "plant.set_gravity_enabled(iiwa, False)\n",
    "plant.set_gravity_enabled(wsg, False)\n",
    "plant.Finalize()\n",
    "\n",
    "# Connect meshcat to scene\n",
    "MeshcatVisualizer.AddToBuilder(builder, scene_graph, meshcat)\n",
    "\n",
    "# Add our torque controller\n",
    "controller: CartesianStiffnessController = builder.AddSystem(CartesianStiffnessController(plant, \"iiwa\"))\n",
    "controller.SetGains(\n",
    "    position=(10.0, 5.0),\n",
    "    orientation=(10.0, 5.0),\n",
    "    null_space=5.0\n",
    ")\n",
    "\n",
    "# Wire up controller torque to iiwa torque\n",
    "builder.Connect(controller.GetOutputPort(\"iiwa_torque_cmd\"), plant.get_actuation_input_port())\n",
    "\n",
    "# Extract state from plant and feed to controller\n",
    "state_demultiplexer = builder.AddSystem(Demultiplexer([7,7]))\n",
    "builder.Connect(plant.get_state_output_port(iiwa), state_demultiplexer.get_input_port(0))\n",
    "builder.Connect(state_demultiplexer.get_output_port(0), controller.GetInputPort(\"iiwa_position_measured\"))\n",
    "builder.Connect(state_demultiplexer.get_output_port(1), controller.GetInputPort(\"iiwa_velocity_measured\"))"
   ]
  },
  {
   "cell_type": "code",
   "execution_count": 12,
   "metadata": {},
   "outputs": [
    {
     "data": {
      "text/plain": [
       "<manipulation.meshcat_utils.StopButton at 0x112c7f470>"
      ]
     },
     "execution_count": 12,
     "metadata": {},
     "output_type": "execute_result"
    }
   ],
   "source": [
    "# Make a second plant for a desired point visualization\n",
    "vis_scene_graph = builder.AddSystem(SceneGraph())\n",
    "vis_plant = MultibodyPlant(time_step=0.005)\n",
    "vis_plant.RegisterAsSourceForSceneGraph(vis_scene_graph)\n",
    "\n",
    "# Add the point and a couple false bodies to give the point 3 DOF\n",
    "point_body = AddShape(vis_plant, Sphere(0.03), \"point_body\", color=[0.9, 0.5, 0.5, 1.0])\n",
    "vis_plant.AddRigidBody(\"false_body1\", point_body, SpatialInertia(0, [0, 0, 0], UnitInertia(0, 0, 0)))\n",
    "vis_plant.AddRigidBody(\"false_body2\", point_body, SpatialInertia(0, [0, 0, 0], UnitInertia(0, 0, 0)))\n",
    "\n",
    "# \"Mount\" the point on 3 prismatic joints\n",
    "false_x = vis_plant.AddJoint(\n",
    "    PrismaticJoint(\n",
    "        \"false_x\",\n",
    "        vis_plant.world_frame(),\n",
    "        vis_plant.GetFrameByName(\"false_body1\"),\n",
    "        [1, 0, 0]\n",
    "    ))\n",
    "false_x.set_default_translation(0.47)\n",
    "vis_plant.AddJointActuator(\"false_x\", false_x)\n",
    "false_y = vis_plant.AddJoint(\n",
    "    PrismaticJoint(\n",
    "        \"false_y\",\n",
    "        vis_plant.GetFrameByName(\"false_body1\"),\n",
    "        vis_plant.GetFrameByName(\"false_body2\"),\n",
    "        [0, 1, 0]\n",
    "    ))\n",
    "vis_plant.AddJointActuator(\"false_y\", false_y)\n",
    "false_z = vis_plant.AddJoint(\n",
    "    PrismaticJoint(\n",
    "        \"false_z\",\n",
    "        vis_plant.GetFrameByName(\"false_body2\"),\n",
    "        vis_plant.GetFrameByName(\"point_body\"),\n",
    "        [0, 0, 1]\n",
    "    ))\n",
    "false_z.set_default_translation(0.22)\n",
    "vis_plant.AddJointActuator(\"false_z\", false_z)\n",
    "vis_plant.Finalize()\n",
    "\n",
    "# Visualize the new scene graph\n",
    "params = MeshcatVisualizerParams()\n",
    "params.prefix = \"teleop\"\n",
    "MeshcatVisualizer.AddToBuilder(\n",
    "    builder,\n",
    "    vis_scene_graph,\n",
    "    meshcat,\n",
    "    params\n",
    ")\n",
    "\n",
    "# Helper system to let us directly set the position of the point\n",
    "positions_to_poses = builder.AddSystem(MultibodyPositionToGeometryPose(vis_plant))\n",
    "builder.Connect(positions_to_poses.get_output_port(), vis_scene_graph.get_source_pose_port(vis_plant.get_source_id()))\n",
    "\n",
    "# Position sliders for teleop control of the point\n",
    "position_sliders = builder.AddSystem(\n",
    "    JointSliders(\n",
    "        meshcat,\n",
    "        vis_plant,\n",
    "        step=0.01,\n",
    "        decrement_keycodes=[\"KeyA\", \"KeyS\", \"KeyZ\"],\n",
    "        increment_keycodes=[\"KeyD\", \"KeyW\", \"KeyX\"],\n",
    "    ))\n",
    "builder.Connect(position_sliders.get_output_port(), positions_to_poses.get_input_port(),)\n",
    "\n",
    "# Send the position of the point and 0 angle as the desired state for our end effector\n",
    "positions_to_state = builder.AddSystem(Multiplexer([3, 3]))\n",
    "zeros = builder.AddSystem(ConstantVectorSource([-1.362, 0, 1.57]))\n",
    "builder.Connect(zeros.get_output_port(0), positions_to_state.get_input_port(0))\n",
    "builder.Connect(position_sliders.get_output_port(), positions_to_state.get_input_port(1))\n",
    "builder.Connect(positions_to_state.get_output_port(), controller.GetInputPort(\"pose_desired\"))\n",
    "\n",
    "# Stop button for ending sim\n",
    "builder.AddSystem(StopButton(meshcat))"
   ]
  },
  {
   "cell_type": "code",
   "execution_count": 13,
   "metadata": {},
   "outputs": [],
   "source": [
    "diagram = builder.Build()\n",
    "simulator = Simulator(diagram)"
   ]
  },
  {
   "cell_type": "code",
   "execution_count": 14,
   "metadata": {},
   "outputs": [
    {
     "name": "stdout",
     "output_type": "stream",
     "text": [
      "Press Escape to stop the simulation\n"
     ]
    },
    {
     "ename": "KeyboardInterrupt",
     "evalue": "",
     "output_type": "error",
     "traceback": [
      "\u001b[0;31m---------------------------------------------------------------------------\u001b[0m",
      "\u001b[0;31mKeyboardInterrupt\u001b[0m                         Traceback (most recent call last)",
      "Cell \u001b[0;32mIn[14], line 2\u001b[0m\n\u001b[1;32m      1\u001b[0m simulator\u001b[38;5;241m.\u001b[39mset_target_realtime_rate(\u001b[38;5;241m1.0\u001b[39m)\n\u001b[0;32m----> 2\u001b[0m \u001b[43msimulator\u001b[49m\u001b[38;5;241;43m.\u001b[39;49m\u001b[43mAdvanceTo\u001b[49m\u001b[43m(\u001b[49m\u001b[43mnp\u001b[49m\u001b[38;5;241;43m.\u001b[39;49m\u001b[43minf\u001b[49m\u001b[43m)\u001b[49m\n",
      "File \u001b[0;32m~/Documents/6.4210/ShishKebot/CartesianStiffnessController.py:102\u001b[0m, in \u001b[0;36mCartesianStiffnessController.CalcTorqueOutput\u001b[0;34m(self, context, output)\u001b[0m\n\u001b[1;32m     91\u001b[0m J \u001b[38;5;241m=\u001b[39m \u001b[38;5;28mself\u001b[39m\u001b[38;5;241m.\u001b[39m_plant\u001b[38;5;241m.\u001b[39mCalcJacobianSpatialVelocity(\n\u001b[1;32m     92\u001b[0m     \u001b[38;5;28mself\u001b[39m\u001b[38;5;241m.\u001b[39m_plant_context,        \u001b[38;5;66;03m# Context for function to perform calculations\u001b[39;00m\n\u001b[1;32m     93\u001b[0m     JacobianWrtVariable\u001b[38;5;241m.\u001b[39mkQDot,  \u001b[38;5;66;03m# Variable to take Jacobian w.r.t \u001b[39;00m\n\u001b[0;32m   (...)\u001b[0m\n\u001b[1;32m     97\u001b[0m     \u001b[38;5;28mself\u001b[39m\u001b[38;5;241m.\u001b[39m_W,                    \u001b[38;5;66;03m# Frame we want Jacobian expressed in (World)\u001b[39;00m\n\u001b[1;32m     98\u001b[0m )[:, \u001b[38;5;28mself\u001b[39m\u001b[38;5;241m.\u001b[39m_joint_indices] \n\u001b[1;32m     99\u001b[0m \u001b[38;5;66;03m# 6x7\u001b[39;00m\n\u001b[1;32m    100\u001b[0m \n\u001b[1;32m    101\u001b[0m \u001b[38;5;66;03m# Measured pose in cartesian space\u001b[39;00m\n\u001b[0;32m--> 102\u001b[0m X_G \u001b[38;5;241m=\u001b[39m \u001b[38;5;28;43mself\u001b[39;49m\u001b[38;5;241;43m.\u001b[39;49m\u001b[43m_plant\u001b[49m\u001b[38;5;241;43m.\u001b[39;49m\u001b[43mCalcRelativeTransform\u001b[49m\u001b[43m(\u001b[49m\u001b[38;5;28;43mself\u001b[39;49m\u001b[38;5;241;43m.\u001b[39;49m\u001b[43m_plant_context\u001b[49m\u001b[43m,\u001b[49m\u001b[43m \u001b[49m\u001b[38;5;28;43mself\u001b[39;49m\u001b[38;5;241;43m.\u001b[39;49m\u001b[43m_W\u001b[49m\u001b[43m,\u001b[49m\u001b[43m \u001b[49m\u001b[38;5;28;43mself\u001b[39;49m\u001b[38;5;241;43m.\u001b[39;49m\u001b[43m_G\u001b[49m\u001b[43m)\u001b[49m\n\u001b[1;32m    103\u001b[0m x \u001b[38;5;241m=\u001b[39m np\u001b[38;5;241m.\u001b[39mvstack((RollPitchYaw(X_G\u001b[38;5;241m.\u001b[39mrotation())\u001b[38;5;241m.\u001b[39mvector(), X_G\u001b[38;5;241m.\u001b[39mtranslation()))\u001b[38;5;241m.\u001b[39mreshape(\u001b[38;5;241m-\u001b[39m\u001b[38;5;241m1\u001b[39m, \u001b[38;5;241m1\u001b[39m)\n\u001b[1;32m    104\u001b[0m \u001b[38;5;66;03m# 6x1         3x1                                    3x1\u001b[39;00m\n\u001b[1;32m    105\u001b[0m \n\u001b[1;32m    106\u001b[0m \u001b[38;5;66;03m# Measured SPATIAL velocity in cartesian space\u001b[39;00m\n",
      "\u001b[0;31mKeyboardInterrupt\u001b[0m: "
     ]
    }
   ],
   "source": [
    "simulator.set_target_realtime_rate(1.0)\n",
    "simulator.AdvanceTo(np.inf)"
   ]
  }
 ],
 "metadata": {
  "kernelspec": {
   "display_name": "env",
   "language": "python",
   "name": "python3"
  },
  "language_info": {
   "codemirror_mode": {
    "name": "ipython",
    "version": 3
   },
   "file_extension": ".py",
   "mimetype": "text/x-python",
   "name": "python",
   "nbconvert_exporter": "python",
   "pygments_lexer": "ipython3",
   "version": "3.11.1"
  }
 },
 "nbformat": 4,
 "nbformat_minor": 2
}
